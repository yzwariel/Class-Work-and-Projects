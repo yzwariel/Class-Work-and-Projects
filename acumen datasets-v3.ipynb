{
 "cells": [
  {
   "cell_type": "markdown",
   "metadata": {},
   "source": [
    "# Acumen Dataset Exploration"
   ]
  },
  {
   "cell_type": "markdown",
   "metadata": {},
   "source": [
    "## 1. Understanding the data"
   ]
  },
  {
   "cell_type": "markdown",
   "metadata": {},
   "source": [
    "### import the data"
   ]
  },
  {
   "cell_type": "code",
   "execution_count": 853,
   "metadata": {},
   "outputs": [],
   "source": [
    "import pandas as pd\n",
    "import numpy as np\n",
    "import matplotlib.pyplot as plt\n",
    "import seaborn as sns\n",
    "%matplotlib inline\n",
    "np.random.seed(1337)"
   ]
  },
  {
   "cell_type": "code",
   "execution_count": 854,
   "metadata": {},
   "outputs": [
    {
     "data": {
      "text/html": [
       "<div>\n",
       "<style scoped>\n",
       "    .dataframe tbody tr th:only-of-type {\n",
       "        vertical-align: middle;\n",
       "    }\n",
       "\n",
       "    .dataframe tbody tr th {\n",
       "        vertical-align: top;\n",
       "    }\n",
       "\n",
       "    .dataframe thead th {\n",
       "        text-align: right;\n",
       "    }\n",
       "</style>\n",
       "<table border=\"1\" class=\"dataframe\">\n",
       "  <thead>\n",
       "    <tr style=\"text-align: right;\">\n",
       "      <th></th>\n",
       "      <th>Observation Number</th>\n",
       "      <th>Quarter</th>\n",
       "      <th>Employee Id</th>\n",
       "      <th>Sex (Male=1)</th>\n",
       "      <th>Race</th>\n",
       "      <th>Age</th>\n",
       "      <th>Hospital Visit This Quarter (1=Yes)</th>\n",
       "      <th>Salary</th>\n",
       "      <th>Health Score</th>\n",
       "    </tr>\n",
       "  </thead>\n",
       "  <tbody>\n",
       "    <tr>\n",
       "      <th>0</th>\n",
       "      <td>1</td>\n",
       "      <td>1</td>\n",
       "      <td>1</td>\n",
       "      <td>0.0</td>\n",
       "      <td>3.0</td>\n",
       "      <td>27</td>\n",
       "      <td>0</td>\n",
       "      <td>$36,907</td>\n",
       "      <td>3.7</td>\n",
       "    </tr>\n",
       "    <tr>\n",
       "      <th>1</th>\n",
       "      <td>2</td>\n",
       "      <td>2</td>\n",
       "      <td>1</td>\n",
       "      <td>0.0</td>\n",
       "      <td>3.0</td>\n",
       "      <td>28</td>\n",
       "      <td>0</td>\n",
       "      <td>$37,907</td>\n",
       "      <td>5.0</td>\n",
       "    </tr>\n",
       "    <tr>\n",
       "      <th>2</th>\n",
       "      <td>3</td>\n",
       "      <td>3</td>\n",
       "      <td>1</td>\n",
       "      <td>0.0</td>\n",
       "      <td>3.0</td>\n",
       "      <td>28</td>\n",
       "      <td>0</td>\n",
       "      <td>$38,907</td>\n",
       "      <td>4.0</td>\n",
       "    </tr>\n",
       "    <tr>\n",
       "      <th>3</th>\n",
       "      <td>4</td>\n",
       "      <td>4</td>\n",
       "      <td>1</td>\n",
       "      <td>0.0</td>\n",
       "      <td>3.0</td>\n",
       "      <td>28</td>\n",
       "      <td>0</td>\n",
       "      <td>$39,907</td>\n",
       "      <td>2.3</td>\n",
       "    </tr>\n",
       "    <tr>\n",
       "      <th>4</th>\n",
       "      <td>5</td>\n",
       "      <td>5</td>\n",
       "      <td>1</td>\n",
       "      <td>0.0</td>\n",
       "      <td>3.0</td>\n",
       "      <td>29</td>\n",
       "      <td>0</td>\n",
       "      <td>$40,907</td>\n",
       "      <td>2.1</td>\n",
       "    </tr>\n",
       "  </tbody>\n",
       "</table>\n",
       "</div>"
      ],
      "text/plain": [
       "   Observation Number  Quarter  Employee Id  Sex (Male=1)  Race  Age  \\\n",
       "0                   1        1            1           0.0   3.0   27   \n",
       "1                   2        2            1           0.0   3.0   28   \n",
       "2                   3        3            1           0.0   3.0   28   \n",
       "3                   4        4            1           0.0   3.0   28   \n",
       "4                   5        5            1           0.0   3.0   29   \n",
       "\n",
       "   Hospital Visit This Quarter (1=Yes)   Salary  Health Score  \n",
       "0                                    0  $36,907           3.7  \n",
       "1                                    0  $37,907           5.0  \n",
       "2                                    0  $38,907           4.0  \n",
       "3                                    0  $39,907           2.3  \n",
       "4                                    0  $40,907           2.1  "
      ]
     },
     "execution_count": 854,
     "metadata": {},
     "output_type": "execute_result"
    }
   ],
   "source": [
    "data = pd.read_csv('acu_data.csv')\n",
    "data.head()"
   ]
  },
  {
   "cell_type": "code",
   "execution_count": 855,
   "metadata": {},
   "outputs": [
    {
     "data": {
      "text/plain": [
       "(19103, 9)"
      ]
     },
     "execution_count": 855,
     "metadata": {},
     "output_type": "execute_result"
    }
   ],
   "source": [
    "data.shape"
   ]
  },
  {
   "cell_type": "markdown",
   "metadata": {},
   "source": [
    "There are 9 columns and 19103 rows in the dataset."
   ]
  },
  {
   "cell_type": "code",
   "execution_count": 856,
   "metadata": {},
   "outputs": [
    {
     "name": "stdout",
     "output_type": "stream",
     "text": [
      "<class 'pandas.core.frame.DataFrame'>\n",
      "RangeIndex: 19103 entries, 0 to 19102\n",
      "Data columns (total 9 columns):\n",
      "Observation Number                     19103 non-null int64\n",
      "Quarter                                19103 non-null int64\n",
      "Employee Id                            19103 non-null int64\n",
      "Sex (Male=1)                           19032 non-null float64\n",
      "Race                                   16980 non-null float64\n",
      "Age                                    19103 non-null int64\n",
      "Hospital Visit This Quarter (1=Yes)    19103 non-null int64\n",
      "Salary                                 19103 non-null object\n",
      "Health Score                           19103 non-null float64\n",
      "dtypes: float64(3), int64(5), object(1)\n",
      "memory usage: 1.3+ MB\n"
     ]
    }
   ],
   "source": [
    "data.info()"
   ]
  },
  {
   "cell_type": "markdown",
   "metadata": {},
   "source": [
    "We can see from here that there are many missing values as not all of them have values in all 19103 rows."
   ]
  },
  {
   "cell_type": "code",
   "execution_count": 857,
   "metadata": {},
   "outputs": [
    {
     "data": {
      "text/plain": [
       "Quarter\n",
       "1      684\n",
       "2      891\n",
       "3     1139\n",
       "4     1448\n",
       "5     1671\n",
       "6     1775\n",
       "7     1850\n",
       "8     1885\n",
       "9     1914\n",
       "10    1934\n",
       "11    1950\n",
       "12    1962\n",
       "Name: Employee Id, dtype: int64"
      ]
     },
     "execution_count": 857,
     "metadata": {},
     "output_type": "execute_result"
    }
   ],
   "source": [
    "data.groupby('Quarter')['Employee Id'].count()"
   ]
  },
  {
   "cell_type": "markdown",
   "metadata": {},
   "source": [
    "For future analysis, we will now change the type of salary into integer."
   ]
  },
  {
   "cell_type": "markdown",
   "metadata": {},
   "source": [
    "### Cleaning salary values"
   ]
  },
  {
   "cell_type": "code",
   "execution_count": 859,
   "metadata": {},
   "outputs": [],
   "source": [
    "data['Salary'] = data['Salary'].str[1:]  # remove the $\n",
    "data['Salary'] = data['Salary'].str.replace(',', '')  # remove the comma\n",
    "data['Salary'] = [int(i) for i in data['Salary']]  # convert them to integers"
   ]
  },
  {
   "cell_type": "markdown",
   "metadata": {},
   "source": [
    "## Convert the sex column to two dummy columns"
   ]
  },
  {
   "cell_type": "code",
   "execution_count": 860,
   "metadata": {},
   "outputs": [],
   "source": [
    "data['Sex (Male=1)'] = data['Sex (Male=1)'].map({1:'Male', 0:'Female'})"
   ]
  },
  {
   "cell_type": "code",
   "execution_count": 861,
   "metadata": {},
   "outputs": [],
   "source": [
    "data_sex = pd.get_dummies(data['Sex (Male=1)'])\n",
    "data = pd.concat([data, data_sex],axis=1)"
   ]
  },
  {
   "cell_type": "code",
   "execution_count": 862,
   "metadata": {},
   "outputs": [
    {
     "data": {
      "text/html": [
       "<div>\n",
       "<style scoped>\n",
       "    .dataframe tbody tr th:only-of-type {\n",
       "        vertical-align: middle;\n",
       "    }\n",
       "\n",
       "    .dataframe tbody tr th {\n",
       "        vertical-align: top;\n",
       "    }\n",
       "\n",
       "    .dataframe thead th {\n",
       "        text-align: right;\n",
       "    }\n",
       "</style>\n",
       "<table border=\"1\" class=\"dataframe\">\n",
       "  <thead>\n",
       "    <tr style=\"text-align: right;\">\n",
       "      <th></th>\n",
       "      <th>Observation Number</th>\n",
       "      <th>Quarter</th>\n",
       "      <th>Employee Id</th>\n",
       "      <th>Sex (Male=1)</th>\n",
       "      <th>Race</th>\n",
       "      <th>Age</th>\n",
       "      <th>Hospital Visit This Quarter (1=Yes)</th>\n",
       "      <th>Salary</th>\n",
       "      <th>Health Score</th>\n",
       "      <th>Female</th>\n",
       "      <th>Male</th>\n",
       "    </tr>\n",
       "  </thead>\n",
       "  <tbody>\n",
       "    <tr>\n",
       "      <th>0</th>\n",
       "      <td>1</td>\n",
       "      <td>1</td>\n",
       "      <td>1</td>\n",
       "      <td>Female</td>\n",
       "      <td>3.0</td>\n",
       "      <td>27</td>\n",
       "      <td>0</td>\n",
       "      <td>36907</td>\n",
       "      <td>3.7</td>\n",
       "      <td>1</td>\n",
       "      <td>0</td>\n",
       "    </tr>\n",
       "    <tr>\n",
       "      <th>1</th>\n",
       "      <td>2</td>\n",
       "      <td>2</td>\n",
       "      <td>1</td>\n",
       "      <td>Female</td>\n",
       "      <td>3.0</td>\n",
       "      <td>28</td>\n",
       "      <td>0</td>\n",
       "      <td>37907</td>\n",
       "      <td>5.0</td>\n",
       "      <td>1</td>\n",
       "      <td>0</td>\n",
       "    </tr>\n",
       "    <tr>\n",
       "      <th>2</th>\n",
       "      <td>3</td>\n",
       "      <td>3</td>\n",
       "      <td>1</td>\n",
       "      <td>Female</td>\n",
       "      <td>3.0</td>\n",
       "      <td>28</td>\n",
       "      <td>0</td>\n",
       "      <td>38907</td>\n",
       "      <td>4.0</td>\n",
       "      <td>1</td>\n",
       "      <td>0</td>\n",
       "    </tr>\n",
       "    <tr>\n",
       "      <th>3</th>\n",
       "      <td>4</td>\n",
       "      <td>4</td>\n",
       "      <td>1</td>\n",
       "      <td>Female</td>\n",
       "      <td>3.0</td>\n",
       "      <td>28</td>\n",
       "      <td>0</td>\n",
       "      <td>39907</td>\n",
       "      <td>2.3</td>\n",
       "      <td>1</td>\n",
       "      <td>0</td>\n",
       "    </tr>\n",
       "    <tr>\n",
       "      <th>4</th>\n",
       "      <td>5</td>\n",
       "      <td>5</td>\n",
       "      <td>1</td>\n",
       "      <td>Female</td>\n",
       "      <td>3.0</td>\n",
       "      <td>29</td>\n",
       "      <td>0</td>\n",
       "      <td>40907</td>\n",
       "      <td>2.1</td>\n",
       "      <td>1</td>\n",
       "      <td>0</td>\n",
       "    </tr>\n",
       "  </tbody>\n",
       "</table>\n",
       "</div>"
      ],
      "text/plain": [
       "   Observation Number  Quarter  Employee Id Sex (Male=1)  Race  Age  \\\n",
       "0                   1        1            1       Female   3.0   27   \n",
       "1                   2        2            1       Female   3.0   28   \n",
       "2                   3        3            1       Female   3.0   28   \n",
       "3                   4        4            1       Female   3.0   28   \n",
       "4                   5        5            1       Female   3.0   29   \n",
       "\n",
       "   Hospital Visit This Quarter (1=Yes)  Salary  Health Score  Female  Male  \n",
       "0                                    0   36907           3.7       1     0  \n",
       "1                                    0   37907           5.0       1     0  \n",
       "2                                    0   38907           4.0       1     0  \n",
       "3                                    0   39907           2.3       1     0  \n",
       "4                                    0   40907           2.1       1     0  "
      ]
     },
     "execution_count": 862,
     "metadata": {},
     "output_type": "execute_result"
    }
   ],
   "source": [
    "data.head()"
   ]
  },
  {
   "cell_type": "markdown",
   "metadata": {},
   "source": [
    "### Convert the Hospital visit to 2 dummy columns"
   ]
  },
  {
   "cell_type": "code",
   "execution_count": 863,
   "metadata": {},
   "outputs": [],
   "source": [
    "data['Hospital Visit This Quarter (1=Yes)'] = data['Hospital Visit This Quarter (1=Yes)'].map({1:'hosp_yes', 0:'hosp_no'})\n",
    "data_hosp = pd.get_dummies(data['Hospital Visit This Quarter (1=Yes)'])\n",
    "data = pd.concat([data, data_hosp],axis=1)"
   ]
  },
  {
   "cell_type": "code",
   "execution_count": 864,
   "metadata": {},
   "outputs": [
    {
     "data": {
      "text/html": [
       "<div>\n",
       "<style scoped>\n",
       "    .dataframe tbody tr th:only-of-type {\n",
       "        vertical-align: middle;\n",
       "    }\n",
       "\n",
       "    .dataframe tbody tr th {\n",
       "        vertical-align: top;\n",
       "    }\n",
       "\n",
       "    .dataframe thead th {\n",
       "        text-align: right;\n",
       "    }\n",
       "</style>\n",
       "<table border=\"1\" class=\"dataframe\">\n",
       "  <thead>\n",
       "    <tr style=\"text-align: right;\">\n",
       "      <th></th>\n",
       "      <th>Observation Number</th>\n",
       "      <th>Quarter</th>\n",
       "      <th>Employee Id</th>\n",
       "      <th>Sex (Male=1)</th>\n",
       "      <th>Race</th>\n",
       "      <th>Age</th>\n",
       "      <th>Hospital Visit This Quarter (1=Yes)</th>\n",
       "      <th>Salary</th>\n",
       "      <th>Health Score</th>\n",
       "      <th>Female</th>\n",
       "      <th>Male</th>\n",
       "      <th>hosp_no</th>\n",
       "      <th>hosp_yes</th>\n",
       "    </tr>\n",
       "  </thead>\n",
       "  <tbody>\n",
       "    <tr>\n",
       "      <th>0</th>\n",
       "      <td>1</td>\n",
       "      <td>1</td>\n",
       "      <td>1</td>\n",
       "      <td>Female</td>\n",
       "      <td>3.0</td>\n",
       "      <td>27</td>\n",
       "      <td>hosp_no</td>\n",
       "      <td>36907</td>\n",
       "      <td>3.7</td>\n",
       "      <td>1</td>\n",
       "      <td>0</td>\n",
       "      <td>1</td>\n",
       "      <td>0</td>\n",
       "    </tr>\n",
       "    <tr>\n",
       "      <th>1</th>\n",
       "      <td>2</td>\n",
       "      <td>2</td>\n",
       "      <td>1</td>\n",
       "      <td>Female</td>\n",
       "      <td>3.0</td>\n",
       "      <td>28</td>\n",
       "      <td>hosp_no</td>\n",
       "      <td>37907</td>\n",
       "      <td>5.0</td>\n",
       "      <td>1</td>\n",
       "      <td>0</td>\n",
       "      <td>1</td>\n",
       "      <td>0</td>\n",
       "    </tr>\n",
       "    <tr>\n",
       "      <th>2</th>\n",
       "      <td>3</td>\n",
       "      <td>3</td>\n",
       "      <td>1</td>\n",
       "      <td>Female</td>\n",
       "      <td>3.0</td>\n",
       "      <td>28</td>\n",
       "      <td>hosp_no</td>\n",
       "      <td>38907</td>\n",
       "      <td>4.0</td>\n",
       "      <td>1</td>\n",
       "      <td>0</td>\n",
       "      <td>1</td>\n",
       "      <td>0</td>\n",
       "    </tr>\n",
       "    <tr>\n",
       "      <th>3</th>\n",
       "      <td>4</td>\n",
       "      <td>4</td>\n",
       "      <td>1</td>\n",
       "      <td>Female</td>\n",
       "      <td>3.0</td>\n",
       "      <td>28</td>\n",
       "      <td>hosp_no</td>\n",
       "      <td>39907</td>\n",
       "      <td>2.3</td>\n",
       "      <td>1</td>\n",
       "      <td>0</td>\n",
       "      <td>1</td>\n",
       "      <td>0</td>\n",
       "    </tr>\n",
       "    <tr>\n",
       "      <th>4</th>\n",
       "      <td>5</td>\n",
       "      <td>5</td>\n",
       "      <td>1</td>\n",
       "      <td>Female</td>\n",
       "      <td>3.0</td>\n",
       "      <td>29</td>\n",
       "      <td>hosp_no</td>\n",
       "      <td>40907</td>\n",
       "      <td>2.1</td>\n",
       "      <td>1</td>\n",
       "      <td>0</td>\n",
       "      <td>1</td>\n",
       "      <td>0</td>\n",
       "    </tr>\n",
       "  </tbody>\n",
       "</table>\n",
       "</div>"
      ],
      "text/plain": [
       "   Observation Number  Quarter  Employee Id Sex (Male=1)  Race  Age  \\\n",
       "0                   1        1            1       Female   3.0   27   \n",
       "1                   2        2            1       Female   3.0   28   \n",
       "2                   3        3            1       Female   3.0   28   \n",
       "3                   4        4            1       Female   3.0   28   \n",
       "4                   5        5            1       Female   3.0   29   \n",
       "\n",
       "  Hospital Visit This Quarter (1=Yes)  Salary  Health Score  Female  Male  \\\n",
       "0                             hosp_no   36907           3.7       1     0   \n",
       "1                             hosp_no   37907           5.0       1     0   \n",
       "2                             hosp_no   38907           4.0       1     0   \n",
       "3                             hosp_no   39907           2.3       1     0   \n",
       "4                             hosp_no   40907           2.1       1     0   \n",
       "\n",
       "   hosp_no  hosp_yes  \n",
       "0        1         0  \n",
       "1        1         0  \n",
       "2        1         0  \n",
       "3        1         0  \n",
       "4        1         0  "
      ]
     },
     "execution_count": 864,
     "metadata": {},
     "output_type": "execute_result"
    }
   ],
   "source": [
    "data.head()"
   ]
  },
  {
   "cell_type": "markdown",
   "metadata": {},
   "source": [
    "#### Check the outliers in Age Column"
   ]
  },
  {
   "cell_type": "code",
   "execution_count": 866,
   "metadata": {},
   "outputs": [
    {
     "data": {
      "text/html": [
       "<div>\n",
       "<style scoped>\n",
       "    .dataframe tbody tr th:only-of-type {\n",
       "        vertical-align: middle;\n",
       "    }\n",
       "\n",
       "    .dataframe tbody tr th {\n",
       "        vertical-align: top;\n",
       "    }\n",
       "\n",
       "    .dataframe thead th {\n",
       "        text-align: right;\n",
       "    }\n",
       "</style>\n",
       "<table border=\"1\" class=\"dataframe\">\n",
       "  <thead>\n",
       "    <tr style=\"text-align: right;\">\n",
       "      <th></th>\n",
       "      <th>Observation Number</th>\n",
       "      <th>Quarter</th>\n",
       "      <th>Employee Id</th>\n",
       "      <th>Race</th>\n",
       "      <th>Age</th>\n",
       "      <th>Salary</th>\n",
       "      <th>Health Score</th>\n",
       "      <th>Female</th>\n",
       "      <th>Male</th>\n",
       "      <th>hosp_no</th>\n",
       "      <th>hosp_yes</th>\n",
       "    </tr>\n",
       "  </thead>\n",
       "  <tbody>\n",
       "    <tr>\n",
       "      <th>count</th>\n",
       "      <td>19103.000000</td>\n",
       "      <td>19103.000000</td>\n",
       "      <td>19103.000000</td>\n",
       "      <td>16980.000000</td>\n",
       "      <td>19103.000000</td>\n",
       "      <td>19103.000000</td>\n",
       "      <td>19103.000000</td>\n",
       "      <td>19103.000000</td>\n",
       "      <td>19103.000000</td>\n",
       "      <td>19103.000000</td>\n",
       "      <td>19103.000000</td>\n",
       "    </tr>\n",
       "    <tr>\n",
       "      <th>mean</th>\n",
       "      <td>9552.000000</td>\n",
       "      <td>7.342826</td>\n",
       "      <td>998.012249</td>\n",
       "      <td>1.597055</td>\n",
       "      <td>30.592263</td>\n",
       "      <td>48297.612940</td>\n",
       "      <td>3.588379</td>\n",
       "      <td>0.491860</td>\n",
       "      <td>0.504423</td>\n",
       "      <td>0.888552</td>\n",
       "      <td>0.111448</td>\n",
       "    </tr>\n",
       "    <tr>\n",
       "      <th>std</th>\n",
       "      <td>5514.705432</td>\n",
       "      <td>3.166792</td>\n",
       "      <td>577.313902</td>\n",
       "      <td>0.739656</td>\n",
       "      <td>7.018862</td>\n",
       "      <td>5351.301686</td>\n",
       "      <td>1.985285</td>\n",
       "      <td>0.499947</td>\n",
       "      <td>0.499994</td>\n",
       "      <td>0.314695</td>\n",
       "      <td>0.314695</td>\n",
       "    </tr>\n",
       "    <tr>\n",
       "      <th>min</th>\n",
       "      <td>1.000000</td>\n",
       "      <td>1.000000</td>\n",
       "      <td>1.000000</td>\n",
       "      <td>1.000000</td>\n",
       "      <td>7.000000</td>\n",
       "      <td>28351.000000</td>\n",
       "      <td>0.600000</td>\n",
       "      <td>0.000000</td>\n",
       "      <td>0.000000</td>\n",
       "      <td>0.000000</td>\n",
       "      <td>0.000000</td>\n",
       "    </tr>\n",
       "    <tr>\n",
       "      <th>25%</th>\n",
       "      <td>4776.500000</td>\n",
       "      <td>5.000000</td>\n",
       "      <td>498.000000</td>\n",
       "      <td>1.000000</td>\n",
       "      <td>26.000000</td>\n",
       "      <td>44550.500000</td>\n",
       "      <td>2.400000</td>\n",
       "      <td>0.000000</td>\n",
       "      <td>0.000000</td>\n",
       "      <td>1.000000</td>\n",
       "      <td>0.000000</td>\n",
       "    </tr>\n",
       "    <tr>\n",
       "      <th>50%</th>\n",
       "      <td>9552.000000</td>\n",
       "      <td>8.000000</td>\n",
       "      <td>996.000000</td>\n",
       "      <td>1.000000</td>\n",
       "      <td>29.000000</td>\n",
       "      <td>48196.000000</td>\n",
       "      <td>3.100000</td>\n",
       "      <td>0.000000</td>\n",
       "      <td>1.000000</td>\n",
       "      <td>1.000000</td>\n",
       "      <td>0.000000</td>\n",
       "    </tr>\n",
       "    <tr>\n",
       "      <th>75%</th>\n",
       "      <td>14327.500000</td>\n",
       "      <td>10.000000</td>\n",
       "      <td>1498.000000</td>\n",
       "      <td>2.000000</td>\n",
       "      <td>32.000000</td>\n",
       "      <td>51958.500000</td>\n",
       "      <td>4.100000</td>\n",
       "      <td>1.000000</td>\n",
       "      <td>1.000000</td>\n",
       "      <td>1.000000</td>\n",
       "      <td>0.000000</td>\n",
       "    </tr>\n",
       "    <tr>\n",
       "      <th>max</th>\n",
       "      <td>19103.000000</td>\n",
       "      <td>12.000000</td>\n",
       "      <td>2000.000000</td>\n",
       "      <td>3.000000</td>\n",
       "      <td>172.000000</td>\n",
       "      <td>68826.000000</td>\n",
       "      <td>10.000000</td>\n",
       "      <td>1.000000</td>\n",
       "      <td>1.000000</td>\n",
       "      <td>1.000000</td>\n",
       "      <td>1.000000</td>\n",
       "    </tr>\n",
       "  </tbody>\n",
       "</table>\n",
       "</div>"
      ],
      "text/plain": [
       "       Observation Number       Quarter   Employee Id          Race  \\\n",
       "count        19103.000000  19103.000000  19103.000000  16980.000000   \n",
       "mean          9552.000000      7.342826    998.012249      1.597055   \n",
       "std           5514.705432      3.166792    577.313902      0.739656   \n",
       "min              1.000000      1.000000      1.000000      1.000000   \n",
       "25%           4776.500000      5.000000    498.000000      1.000000   \n",
       "50%           9552.000000      8.000000    996.000000      1.000000   \n",
       "75%          14327.500000     10.000000   1498.000000      2.000000   \n",
       "max          19103.000000     12.000000   2000.000000      3.000000   \n",
       "\n",
       "                Age        Salary  Health Score        Female          Male  \\\n",
       "count  19103.000000  19103.000000  19103.000000  19103.000000  19103.000000   \n",
       "mean      30.592263  48297.612940      3.588379      0.491860      0.504423   \n",
       "std        7.018862   5351.301686      1.985285      0.499947      0.499994   \n",
       "min        7.000000  28351.000000      0.600000      0.000000      0.000000   \n",
       "25%       26.000000  44550.500000      2.400000      0.000000      0.000000   \n",
       "50%       29.000000  48196.000000      3.100000      0.000000      1.000000   \n",
       "75%       32.000000  51958.500000      4.100000      1.000000      1.000000   \n",
       "max      172.000000  68826.000000     10.000000      1.000000      1.000000   \n",
       "\n",
       "            hosp_no      hosp_yes  \n",
       "count  19103.000000  19103.000000  \n",
       "mean       0.888552      0.111448  \n",
       "std        0.314695      0.314695  \n",
       "min        0.000000      0.000000  \n",
       "25%        1.000000      0.000000  \n",
       "50%        1.000000      0.000000  \n",
       "75%        1.000000      0.000000  \n",
       "max        1.000000      1.000000  "
      ]
     },
     "execution_count": 866,
     "metadata": {},
     "output_type": "execute_result"
    }
   ],
   "source": [
    "data.describe() #check overall outliers"
   ]
  },
  {
   "cell_type": "code",
   "execution_count": 867,
   "metadata": {},
   "outputs": [
    {
     "data": {
      "text/plain": [
       "172     1\n",
       "171     4\n",
       "170     3\n",
       "72      1\n",
       "71      4\n",
       "70      4\n",
       "62      2\n",
       "61      4\n",
       "60      4\n",
       "59     14\n",
       "Name: Age, dtype: int64"
      ]
     },
     "execution_count": 867,
     "metadata": {},
     "output_type": "execute_result"
    }
   ],
   "source": [
    "data[\"Age\"].value_counts(ascending = True).sort_index(ascending = False)[:10]"
   ]
  },
  {
   "cell_type": "code",
   "execution_count": 868,
   "metadata": {},
   "outputs": [
    {
     "data": {
      "text/plain": [
       "7       3\n",
       "8       4\n",
       "16      4\n",
       "17      7\n",
       "18      4\n",
       "19      4\n",
       "20      1\n",
       "22     20\n",
       "23    319\n",
       "24    915\n",
       "Name: Age, dtype: int64"
      ]
     },
     "execution_count": 868,
     "metadata": {},
     "output_type": "execute_result"
    }
   ],
   "source": [
    "data[\"Age\"].value_counts(ascending = True).sort_index(ascending = True)[:10]"
   ]
  },
  {
   "cell_type": "markdown",
   "metadata": {},
   "source": [
    "We can see from the age group that there are some outliers. Say eighteen years old is the bar for working at this company, there are:\n",
    "4 people 8 years old, \n",
    "3 people 7 years old,\n",
    "7 people 17 years old,\n",
    "4 people 16 years old,\n",
    "4 people 171 years old, \n",
    "1 person 172 years old,\n",
    "3 people 170 years old."
   ]
  },
  {
   "cell_type": "markdown",
   "metadata": {},
   "source": [
    "### Check the outliers in health score data: \n",
    "We do the same with health scores, as we saw in the describe that there were some scores > 6"
   ]
  },
  {
   "cell_type": "code",
   "execution_count": 869,
   "metadata": {},
   "outputs": [],
   "source": [
    "bad_health_scores = data[data['Health Score'] ==  10]"
   ]
  },
  {
   "cell_type": "code",
   "execution_count": 870,
   "metadata": {},
   "outputs": [
    {
     "data": {
      "text/html": [
       "<div>\n",
       "<style scoped>\n",
       "    .dataframe tbody tr th:only-of-type {\n",
       "        vertical-align: middle;\n",
       "    }\n",
       "\n",
       "    .dataframe tbody tr th {\n",
       "        vertical-align: top;\n",
       "    }\n",
       "\n",
       "    .dataframe thead th {\n",
       "        text-align: right;\n",
       "    }\n",
       "</style>\n",
       "<table border=\"1\" class=\"dataframe\">\n",
       "  <thead>\n",
       "    <tr style=\"text-align: right;\">\n",
       "      <th></th>\n",
       "      <th>Observation Number</th>\n",
       "      <th>Quarter</th>\n",
       "      <th>Employee Id</th>\n",
       "      <th>Sex (Male=1)</th>\n",
       "      <th>Race</th>\n",
       "      <th>Age</th>\n",
       "      <th>Hospital Visit This Quarter (1=Yes)</th>\n",
       "      <th>Salary</th>\n",
       "      <th>Health Score</th>\n",
       "      <th>Female</th>\n",
       "      <th>Male</th>\n",
       "      <th>hosp_no</th>\n",
       "      <th>hosp_yes</th>\n",
       "    </tr>\n",
       "  </thead>\n",
       "  <tbody>\n",
       "    <tr>\n",
       "      <th>77</th>\n",
       "      <td>78</td>\n",
       "      <td>3</td>\n",
       "      <td>9</td>\n",
       "      <td>Male</td>\n",
       "      <td>1.0</td>\n",
       "      <td>29</td>\n",
       "      <td>hosp_no</td>\n",
       "      <td>50493</td>\n",
       "      <td>10.0</td>\n",
       "      <td>0</td>\n",
       "      <td>1</td>\n",
       "      <td>1</td>\n",
       "      <td>0</td>\n",
       "    </tr>\n",
       "    <tr>\n",
       "      <th>105</th>\n",
       "      <td>106</td>\n",
       "      <td>12</td>\n",
       "      <td>11</td>\n",
       "      <td>Male</td>\n",
       "      <td>1.0</td>\n",
       "      <td>35</td>\n",
       "      <td>hosp_no</td>\n",
       "      <td>62588</td>\n",
       "      <td>10.0</td>\n",
       "      <td>0</td>\n",
       "      <td>1</td>\n",
       "      <td>1</td>\n",
       "      <td>0</td>\n",
       "    </tr>\n",
       "    <tr>\n",
       "      <th>107</th>\n",
       "      <td>108</td>\n",
       "      <td>6</td>\n",
       "      <td>12</td>\n",
       "      <td>Male</td>\n",
       "      <td>2.0</td>\n",
       "      <td>32</td>\n",
       "      <td>hosp_no</td>\n",
       "      <td>43595</td>\n",
       "      <td>10.0</td>\n",
       "      <td>0</td>\n",
       "      <td>1</td>\n",
       "      <td>1</td>\n",
       "      <td>0</td>\n",
       "    </tr>\n",
       "    <tr>\n",
       "      <th>121</th>\n",
       "      <td>122</td>\n",
       "      <td>11</td>\n",
       "      <td>13</td>\n",
       "      <td>Female</td>\n",
       "      <td>NaN</td>\n",
       "      <td>32</td>\n",
       "      <td>hosp_no</td>\n",
       "      <td>47246</td>\n",
       "      <td>10.0</td>\n",
       "      <td>1</td>\n",
       "      <td>0</td>\n",
       "      <td>1</td>\n",
       "      <td>0</td>\n",
       "    </tr>\n",
       "    <tr>\n",
       "      <th>137</th>\n",
       "      <td>138</td>\n",
       "      <td>4</td>\n",
       "      <td>15</td>\n",
       "      <td>Male</td>\n",
       "      <td>1.0</td>\n",
       "      <td>24</td>\n",
       "      <td>hosp_no</td>\n",
       "      <td>52559</td>\n",
       "      <td>10.0</td>\n",
       "      <td>0</td>\n",
       "      <td>1</td>\n",
       "      <td>1</td>\n",
       "      <td>0</td>\n",
       "    </tr>\n",
       "  </tbody>\n",
       "</table>\n",
       "</div>"
      ],
      "text/plain": [
       "     Observation Number  Quarter  Employee Id Sex (Male=1)  Race  Age  \\\n",
       "77                   78        3            9         Male   1.0   29   \n",
       "105                 106       12           11         Male   1.0   35   \n",
       "107                 108        6           12         Male   2.0   32   \n",
       "121                 122       11           13       Female   NaN   32   \n",
       "137                 138        4           15         Male   1.0   24   \n",
       "\n",
       "    Hospital Visit This Quarter (1=Yes)  Salary  Health Score  Female  Male  \\\n",
       "77                              hosp_no   50493          10.0       0     1   \n",
       "105                             hosp_no   62588          10.0       0     1   \n",
       "107                             hosp_no   43595          10.0       0     1   \n",
       "121                             hosp_no   47246          10.0       1     0   \n",
       "137                             hosp_no   52559          10.0       0     1   \n",
       "\n",
       "     hosp_no  hosp_yes  \n",
       "77         1         0  \n",
       "105        1         0  \n",
       "107        1         0  \n",
       "121        1         0  \n",
       "137        1         0  "
      ]
     },
     "execution_count": 870,
     "metadata": {},
     "output_type": "execute_result"
    }
   ],
   "source": [
    "bad_health_scores.head()"
   ]
  },
  {
   "cell_type": "markdown",
   "metadata": {},
   "source": []
  },
  {
   "cell_type": "code",
   "execution_count": 871,
   "metadata": {},
   "outputs": [
    {
     "data": {
      "text/plain": [
       "10.0    1238\n",
       "6.0       28\n",
       "Name: Health Score, dtype: int64"
      ]
     },
     "execution_count": 871,
     "metadata": {},
     "output_type": "execute_result"
    }
   ],
   "source": [
    "data[\"Health Score\"].value_counts(ascending = True).sort_index(ascending = False)[:6]"
   ]
  },
  {
   "cell_type": "markdown",
   "metadata": {},
   "source": [
    "### We start by dropping all Null values and removing obvious outliers"
   ]
  },
  {
   "cell_type": "code",
   "execution_count": 872,
   "metadata": {},
   "outputs": [
    {
     "data": {
      "text/plain": [
       "Observation Number                     False\n",
       "Quarter                                False\n",
       "Employee Id                            False\n",
       "Sex (Male=1)                            True\n",
       "Race                                    True\n",
       "Age                                    False\n",
       "Hospital Visit This Quarter (1=Yes)    False\n",
       "Salary                                 False\n",
       "Health Score                           False\n",
       "Female                                 False\n",
       "Male                                   False\n",
       "hosp_no                                False\n",
       "hosp_yes                               False\n",
       "dtype: bool"
      ]
     },
     "execution_count": 872,
     "metadata": {},
     "output_type": "execute_result"
    }
   ],
   "source": [
    "#find the null values and count them\n",
    "data.isna().any()"
   ]
  },
  {
   "cell_type": "code",
   "execution_count": 873,
   "metadata": {},
   "outputs": [
    {
     "data": {
      "text/plain": [
       "2123"
      ]
     },
     "execution_count": 873,
     "metadata": {},
     "output_type": "execute_result"
    }
   ],
   "source": [
    "data['Race'].isnull().sum()"
   ]
  },
  {
   "cell_type": "code",
   "execution_count": 874,
   "metadata": {},
   "outputs": [
    {
     "data": {
      "text/plain": [
       "0"
      ]
     },
     "execution_count": 874,
     "metadata": {},
     "output_type": "execute_result"
    }
   ],
   "source": [
    "data['Age'].isnull().sum()"
   ]
  },
  {
   "cell_type": "code",
   "execution_count": 875,
   "metadata": {},
   "outputs": [
    {
     "data": {
      "text/plain": [
       "71"
      ]
     },
     "execution_count": 875,
     "metadata": {},
     "output_type": "execute_result"
    }
   ],
   "source": [
    "data['Sex (Male=1)'].isnull().sum()"
   ]
  },
  {
   "cell_type": "code",
   "execution_count": 876,
   "metadata": {},
   "outputs": [
    {
     "data": {
      "text/plain": [
       "(16927, 13)"
      ]
     },
     "execution_count": 876,
     "metadata": {},
     "output_type": "execute_result"
    }
   ],
   "source": [
    "data.dropna().shape"
   ]
  },
  {
   "cell_type": "code",
   "execution_count": 877,
   "metadata": {},
   "outputs": [],
   "source": [
    "data.dropna(inplace=True)"
   ]
  },
  {
   "cell_type": "code",
   "execution_count": 878,
   "metadata": {},
   "outputs": [],
   "source": [
    "#remove the age that are older than 100 and younger than 18\n",
    "age_mask = (data['Age'] >= 18) & (data['Age'] <=100)\n",
    "#remove the health score higher than 6\n",
    "health_score_mask = data['Health Score'] <= 6.0"
   ]
  },
  {
   "cell_type": "code",
   "execution_count": 879,
   "metadata": {},
   "outputs": [],
   "source": [
    "data = data[age_mask & health_score_mask]"
   ]
  },
  {
   "cell_type": "code",
   "execution_count": 880,
   "metadata": {},
   "outputs": [
    {
     "data": {
      "text/html": [
       "<div>\n",
       "<style scoped>\n",
       "    .dataframe tbody tr th:only-of-type {\n",
       "        vertical-align: middle;\n",
       "    }\n",
       "\n",
       "    .dataframe tbody tr th {\n",
       "        vertical-align: top;\n",
       "    }\n",
       "\n",
       "    .dataframe thead th {\n",
       "        text-align: right;\n",
       "    }\n",
       "</style>\n",
       "<table border=\"1\" class=\"dataframe\">\n",
       "  <thead>\n",
       "    <tr style=\"text-align: right;\">\n",
       "      <th></th>\n",
       "      <th>Observation Number</th>\n",
       "      <th>Quarter</th>\n",
       "      <th>Employee Id</th>\n",
       "      <th>Race</th>\n",
       "      <th>Age</th>\n",
       "      <th>Salary</th>\n",
       "      <th>Health Score</th>\n",
       "      <th>Female</th>\n",
       "      <th>Male</th>\n",
       "      <th>hosp_no</th>\n",
       "      <th>hosp_yes</th>\n",
       "    </tr>\n",
       "  </thead>\n",
       "  <tbody>\n",
       "    <tr>\n",
       "      <th>count</th>\n",
       "      <td>15867.000000</td>\n",
       "      <td>15867.000000</td>\n",
       "      <td>15867.000000</td>\n",
       "      <td>15867.000000</td>\n",
       "      <td>15867.000000</td>\n",
       "      <td>15867.000000</td>\n",
       "      <td>15867.000000</td>\n",
       "      <td>15867.000000</td>\n",
       "      <td>15867.000000</td>\n",
       "      <td>15867.000000</td>\n",
       "      <td>15867.000000</td>\n",
       "    </tr>\n",
       "    <tr>\n",
       "      <th>mean</th>\n",
       "      <td>9533.825046</td>\n",
       "      <td>7.331317</td>\n",
       "      <td>996.031008</td>\n",
       "      <td>1.599546</td>\n",
       "      <td>30.436756</td>\n",
       "      <td>48396.840108</td>\n",
       "      <td>3.148598</td>\n",
       "      <td>0.494044</td>\n",
       "      <td>0.505956</td>\n",
       "      <td>0.891851</td>\n",
       "      <td>0.108149</td>\n",
       "    </tr>\n",
       "    <tr>\n",
       "      <th>std</th>\n",
       "      <td>5453.117067</td>\n",
       "      <td>3.159958</td>\n",
       "      <td>570.788420</td>\n",
       "      <td>0.740055</td>\n",
       "      <td>6.263306</td>\n",
       "      <td>5375.858441</td>\n",
       "      <td>1.080626</td>\n",
       "      <td>0.499980</td>\n",
       "      <td>0.499980</td>\n",
       "      <td>0.310578</td>\n",
       "      <td>0.310578</td>\n",
       "    </tr>\n",
       "    <tr>\n",
       "      <th>min</th>\n",
       "      <td>1.000000</td>\n",
       "      <td>1.000000</td>\n",
       "      <td>1.000000</td>\n",
       "      <td>1.000000</td>\n",
       "      <td>18.000000</td>\n",
       "      <td>28351.000000</td>\n",
       "      <td>0.600000</td>\n",
       "      <td>0.000000</td>\n",
       "      <td>0.000000</td>\n",
       "      <td>0.000000</td>\n",
       "      <td>0.000000</td>\n",
       "    </tr>\n",
       "    <tr>\n",
       "      <th>25%</th>\n",
       "      <td>4893.500000</td>\n",
       "      <td>5.000000</td>\n",
       "      <td>510.000000</td>\n",
       "      <td>1.000000</td>\n",
       "      <td>26.000000</td>\n",
       "      <td>44628.000000</td>\n",
       "      <td>2.300000</td>\n",
       "      <td>0.000000</td>\n",
       "      <td>0.000000</td>\n",
       "      <td>1.000000</td>\n",
       "      <td>0.000000</td>\n",
       "    </tr>\n",
       "    <tr>\n",
       "      <th>50%</th>\n",
       "      <td>9572.000000</td>\n",
       "      <td>8.000000</td>\n",
       "      <td>997.000000</td>\n",
       "      <td>1.000000</td>\n",
       "      <td>29.000000</td>\n",
       "      <td>48319.000000</td>\n",
       "      <td>3.000000</td>\n",
       "      <td>0.000000</td>\n",
       "      <td>1.000000</td>\n",
       "      <td>1.000000</td>\n",
       "      <td>0.000000</td>\n",
       "    </tr>\n",
       "    <tr>\n",
       "      <th>75%</th>\n",
       "      <td>14220.500000</td>\n",
       "      <td>10.000000</td>\n",
       "      <td>1487.000000</td>\n",
       "      <td>2.000000</td>\n",
       "      <td>32.000000</td>\n",
       "      <td>52089.000000</td>\n",
       "      <td>3.900000</td>\n",
       "      <td>1.000000</td>\n",
       "      <td>1.000000</td>\n",
       "      <td>1.000000</td>\n",
       "      <td>0.000000</td>\n",
       "    </tr>\n",
       "    <tr>\n",
       "      <th>max</th>\n",
       "      <td>19031.000000</td>\n",
       "      <td>12.000000</td>\n",
       "      <td>1993.000000</td>\n",
       "      <td>3.000000</td>\n",
       "      <td>72.000000</td>\n",
       "      <td>68826.000000</td>\n",
       "      <td>6.000000</td>\n",
       "      <td>1.000000</td>\n",
       "      <td>1.000000</td>\n",
       "      <td>1.000000</td>\n",
       "      <td>1.000000</td>\n",
       "    </tr>\n",
       "  </tbody>\n",
       "</table>\n",
       "</div>"
      ],
      "text/plain": [
       "       Observation Number       Quarter   Employee Id          Race  \\\n",
       "count        15867.000000  15867.000000  15867.000000  15867.000000   \n",
       "mean          9533.825046      7.331317    996.031008      1.599546   \n",
       "std           5453.117067      3.159958    570.788420      0.740055   \n",
       "min              1.000000      1.000000      1.000000      1.000000   \n",
       "25%           4893.500000      5.000000    510.000000      1.000000   \n",
       "50%           9572.000000      8.000000    997.000000      1.000000   \n",
       "75%          14220.500000     10.000000   1487.000000      2.000000   \n",
       "max          19031.000000     12.000000   1993.000000      3.000000   \n",
       "\n",
       "                Age        Salary  Health Score        Female          Male  \\\n",
       "count  15867.000000  15867.000000  15867.000000  15867.000000  15867.000000   \n",
       "mean      30.436756  48396.840108      3.148598      0.494044      0.505956   \n",
       "std        6.263306   5375.858441      1.080626      0.499980      0.499980   \n",
       "min       18.000000  28351.000000      0.600000      0.000000      0.000000   \n",
       "25%       26.000000  44628.000000      2.300000      0.000000      0.000000   \n",
       "50%       29.000000  48319.000000      3.000000      0.000000      1.000000   \n",
       "75%       32.000000  52089.000000      3.900000      1.000000      1.000000   \n",
       "max       72.000000  68826.000000      6.000000      1.000000      1.000000   \n",
       "\n",
       "            hosp_no      hosp_yes  \n",
       "count  15867.000000  15867.000000  \n",
       "mean       0.891851      0.108149  \n",
       "std        0.310578      0.310578  \n",
       "min        0.000000      0.000000  \n",
       "25%        1.000000      0.000000  \n",
       "50%        1.000000      0.000000  \n",
       "75%        1.000000      0.000000  \n",
       "max        1.000000      1.000000  "
      ]
     },
     "execution_count": 880,
     "metadata": {},
     "output_type": "execute_result"
    }
   ],
   "source": [
    "data.describe() #check some outliers"
   ]
  },
  {
   "cell_type": "markdown",
   "metadata": {},
   "source": []
  },
  {
   "cell_type": "markdown",
   "metadata": {},
   "source": [
    "#### Check the race data outliers"
   ]
  },
  {
   "cell_type": "code",
   "execution_count": 881,
   "metadata": {},
   "outputs": [
    {
     "data": {
      "text/plain": [
       "3.0    2440\n",
       "2.0    4633\n",
       "1.0    8794\n",
       "Name: Race, dtype: int64"
      ]
     },
     "execution_count": 881,
     "metadata": {},
     "output_type": "execute_result"
    }
   ],
   "source": [
    "data[\"Race\"].value_counts(ascending = True)"
   ]
  },
  {
   "cell_type": "markdown",
   "metadata": {},
   "source": [
    "We can see 1.0 race is the majority in the company."
   ]
  },
  {
   "cell_type": "code",
   "execution_count": 882,
   "metadata": {},
   "outputs": [
    {
     "data": {
      "text/html": [
       "<div>\n",
       "<style scoped>\n",
       "    .dataframe tbody tr th:only-of-type {\n",
       "        vertical-align: middle;\n",
       "    }\n",
       "\n",
       "    .dataframe tbody tr th {\n",
       "        vertical-align: top;\n",
       "    }\n",
       "\n",
       "    .dataframe thead th {\n",
       "        text-align: right;\n",
       "    }\n",
       "</style>\n",
       "<table border=\"1\" class=\"dataframe\">\n",
       "  <thead>\n",
       "    <tr style=\"text-align: right;\">\n",
       "      <th>Sex (Male=1)</th>\n",
       "      <th>Female</th>\n",
       "      <th>Male</th>\n",
       "    </tr>\n",
       "    <tr>\n",
       "      <th>Race</th>\n",
       "      <th></th>\n",
       "      <th></th>\n",
       "    </tr>\n",
       "  </thead>\n",
       "  <tbody>\n",
       "    <tr>\n",
       "      <th>1.0</th>\n",
       "      <td>4420</td>\n",
       "      <td>4374</td>\n",
       "    </tr>\n",
       "    <tr>\n",
       "      <th>2.0</th>\n",
       "      <td>2263</td>\n",
       "      <td>2370</td>\n",
       "    </tr>\n",
       "    <tr>\n",
       "      <th>3.0</th>\n",
       "      <td>1156</td>\n",
       "      <td>1284</td>\n",
       "    </tr>\n",
       "  </tbody>\n",
       "</table>\n",
       "</div>"
      ],
      "text/plain": [
       "Sex (Male=1)  Female  Male\n",
       "Race                      \n",
       "1.0             4420  4374\n",
       "2.0             2263  2370\n",
       "3.0             1156  1284"
      ]
     },
     "execution_count": 882,
     "metadata": {},
     "output_type": "execute_result"
    }
   ],
   "source": [
    "pd.crosstab(data['Race'], data['Sex (Male=1)'])"
   ]
  },
  {
   "cell_type": "markdown",
   "metadata": {},
   "source": [
    "We can see in each race group, there are more male employees than female."
   ]
  },
  {
   "cell_type": "markdown",
   "metadata": {},
   "source": [
    "### Understanding the employees' characteristics\n",
    "#### Salary VS Race"
   ]
  },
  {
   "cell_type": "code",
   "execution_count": 885,
   "metadata": {},
   "outputs": [
    {
     "data": {
      "image/png": "[encoded data removed]",
      "text/plain": [
       "<Figure size 432x288 with 1 Axes>"
      ]
     },
     "metadata": {
      "needs_background": "light"
     },
     "output_type": "display_data"
    },
    {
     "data": {
      "text/plain": [
       "<Figure size 720x360 with 0 Axes>"
      ]
     },
     "metadata": {},
     "output_type": "display_data"
    }
   ],
   "source": [
    "sns.boxplot(y='Salary', x= 'Race', data=data).set_title('Race VS Salary')\n",
    "plt.figure(figsize=(10,5))\n",
    "plt.show();"
   ]
  },
  {
   "cell_type": "markdown",
   "metadata": {},
   "source": [
    "We can see from this that the 1.0 race have higher median value in salary than the other two."
   ]
  },
  {
   "cell_type": "markdown",
   "metadata": {},
   "source": [
    "#### Salary VS Sex"
   ]
  },
  {
   "cell_type": "code",
   "execution_count": 886,
   "metadata": {},
   "outputs": [
    {
     "data": {
      "image/png": "[encoded data removed]",
      "text/plain": [
       "<Figure size 432x288 with 1 Axes>"
      ]
     },
     "metadata": {
      "needs_background": "light"
     },
     "output_type": "display_data"
    },
    {
     "data": {
      "text/plain": [
       "<Figure size 720x360 with 0 Axes>"
      ]
     },
     "metadata": {},
     "output_type": "display_data"
    }
   ],
   "source": [
    "sns.boxplot(y='Salary', x= 'Sex (Male=1)', data=data).set_title('Salary VS Sex')\n",
    "plt.figure(figsize=(10,5))\n",
    "#plt.title('Race VS Salary')\n",
    "plt.show();"
   ]
  },
  {
   "cell_type": "markdown",
   "metadata": {},
   "source": [
    "### Do demographic factors change over time?"
   ]
  },
  {
   "cell_type": "code",
   "execution_count": 914,
   "metadata": {},
   "outputs": [
    {
     "data": {
      "text/html": [
       "<div>\n",
       "<style scoped>\n",
       "    .dataframe tbody tr th:only-of-type {\n",
       "        vertical-align: middle;\n",
       "    }\n",
       "\n",
       "    .dataframe tbody tr th {\n",
       "        vertical-align: top;\n",
       "    }\n",
       "\n",
       "    .dataframe thead th {\n",
       "        text-align: right;\n",
       "    }\n",
       "</style>\n",
       "<table border=\"1\" class=\"dataframe\">\n",
       "  <thead>\n",
       "    <tr style=\"text-align: right;\">\n",
       "      <th></th>\n",
       "      <th></th>\n",
       "      <th>Obs</th>\n",
       "      <th>avg_age</th>\n",
       "      <th>avg_salary</th>\n",
       "    </tr>\n",
       "    <tr>\n",
       "      <th>Quarter</th>\n",
       "      <th>Sex (Male=1)</th>\n",
       "      <th></th>\n",
       "      <th></th>\n",
       "      <th></th>\n",
       "    </tr>\n",
       "  </thead>\n",
       "  <tbody>\n",
       "    <tr>\n",
       "      <th rowspan=\"2\" valign=\"top\">1</th>\n",
       "      <th>Female</th>\n",
       "      <td>287</td>\n",
       "      <td>28.665505</td>\n",
       "      <td>41156.839721</td>\n",
       "    </tr>\n",
       "    <tr>\n",
       "      <th>Male</th>\n",
       "      <td>274</td>\n",
       "      <td>28.715328</td>\n",
       "      <td>46412.310219</td>\n",
       "    </tr>\n",
       "    <tr>\n",
       "      <th rowspan=\"2\" valign=\"top\">2</th>\n",
       "      <th>Female</th>\n",
       "      <td>379</td>\n",
       "      <td>28.306069</td>\n",
       "      <td>41766.229551</td>\n",
       "    </tr>\n",
       "    <tr>\n",
       "      <th>Male</th>\n",
       "      <td>357</td>\n",
       "      <td>28.708683</td>\n",
       "      <td>47081.521008</td>\n",
       "    </tr>\n",
       "    <tr>\n",
       "      <th rowspan=\"2\" valign=\"top\">3</th>\n",
       "      <th>Female</th>\n",
       "      <td>475</td>\n",
       "      <td>28.667368</td>\n",
       "      <td>42567.726316</td>\n",
       "    </tr>\n",
       "    <tr>\n",
       "      <th>Male</th>\n",
       "      <td>476</td>\n",
       "      <td>28.590336</td>\n",
       "      <td>47661.571429</td>\n",
       "    </tr>\n",
       "    <tr>\n",
       "      <th rowspan=\"2\" valign=\"top\">4</th>\n",
       "      <th>Female</th>\n",
       "      <td>604</td>\n",
       "      <td>28.701987</td>\n",
       "      <td>43050.943709</td>\n",
       "    </tr>\n",
       "    <tr>\n",
       "      <th>Male</th>\n",
       "      <td>612</td>\n",
       "      <td>28.772876</td>\n",
       "      <td>48071.101307</td>\n",
       "    </tr>\n",
       "    <tr>\n",
       "      <th rowspan=\"2\" valign=\"top\">5</th>\n",
       "      <th>Female</th>\n",
       "      <td>693</td>\n",
       "      <td>29.057720</td>\n",
       "      <td>43604.213564</td>\n",
       "    </tr>\n",
       "    <tr>\n",
       "      <th>Male</th>\n",
       "      <td>708</td>\n",
       "      <td>29.269774</td>\n",
       "      <td>48804.081921</td>\n",
       "    </tr>\n",
       "    <tr>\n",
       "      <th rowspan=\"2\" valign=\"top\">6</th>\n",
       "      <th>Female</th>\n",
       "      <td>730</td>\n",
       "      <td>29.838356</td>\n",
       "      <td>44414.619178</td>\n",
       "    </tr>\n",
       "    <tr>\n",
       "      <th>Male</th>\n",
       "      <td>751</td>\n",
       "      <td>29.684421</td>\n",
       "      <td>49565.834887</td>\n",
       "    </tr>\n",
       "    <tr>\n",
       "      <th rowspan=\"2\" valign=\"top\">7</th>\n",
       "      <th>Female</th>\n",
       "      <td>747</td>\n",
       "      <td>30.283802</td>\n",
       "      <td>45334.453815</td>\n",
       "    </tr>\n",
       "    <tr>\n",
       "      <th>Male</th>\n",
       "      <td>801</td>\n",
       "      <td>30.491885</td>\n",
       "      <td>50353.918851</td>\n",
       "    </tr>\n",
       "    <tr>\n",
       "      <th rowspan=\"2\" valign=\"top\">8</th>\n",
       "      <th>Female</th>\n",
       "      <td>765</td>\n",
       "      <td>30.768627</td>\n",
       "      <td>46192.368627</td>\n",
       "    </tr>\n",
       "    <tr>\n",
       "      <th>Male</th>\n",
       "      <td>799</td>\n",
       "      <td>30.739675</td>\n",
       "      <td>51283.957447</td>\n",
       "    </tr>\n",
       "    <tr>\n",
       "      <th rowspan=\"2\" valign=\"top\">9</th>\n",
       "      <th>Female</th>\n",
       "      <td>779</td>\n",
       "      <td>31.369705</td>\n",
       "      <td>47077.189987</td>\n",
       "    </tr>\n",
       "    <tr>\n",
       "      <th>Male</th>\n",
       "      <td>799</td>\n",
       "      <td>31.118899</td>\n",
       "      <td>52175.344180</td>\n",
       "    </tr>\n",
       "    <tr>\n",
       "      <th rowspan=\"2\" valign=\"top\">10</th>\n",
       "      <th>Female</th>\n",
       "      <td>783</td>\n",
       "      <td>31.578544</td>\n",
       "      <td>47993.574713</td>\n",
       "    </tr>\n",
       "    <tr>\n",
       "      <th>Male</th>\n",
       "      <td>822</td>\n",
       "      <td>31.515815</td>\n",
       "      <td>53120.951338</td>\n",
       "    </tr>\n",
       "    <tr>\n",
       "      <th rowspan=\"2\" valign=\"top\">11</th>\n",
       "      <th>Female</th>\n",
       "      <td>810</td>\n",
       "      <td>32.230864</td>\n",
       "      <td>48869.516049</td>\n",
       "    </tr>\n",
       "    <tr>\n",
       "      <th>Male</th>\n",
       "      <td>817</td>\n",
       "      <td>31.872705</td>\n",
       "      <td>54198.216646</td>\n",
       "    </tr>\n",
       "    <tr>\n",
       "      <th rowspan=\"2\" valign=\"top\">12</th>\n",
       "      <th>Female</th>\n",
       "      <td>787</td>\n",
       "      <td>32.481576</td>\n",
       "      <td>49853.050826</td>\n",
       "    </tr>\n",
       "    <tr>\n",
       "      <th>Male</th>\n",
       "      <td>812</td>\n",
       "      <td>31.987685</td>\n",
       "      <td>55152.822660</td>\n",
       "    </tr>\n",
       "  </tbody>\n",
       "</table>\n",
       "</div>"
      ],
      "text/plain": [
       "                      Obs    avg_age    avg_salary\n",
       "Quarter Sex (Male=1)                              \n",
       "1       Female        287  28.665505  41156.839721\n",
       "        Male          274  28.715328  46412.310219\n",
       "2       Female        379  28.306069  41766.229551\n",
       "        Male          357  28.708683  47081.521008\n",
       "3       Female        475  28.667368  42567.726316\n",
       "        Male          476  28.590336  47661.571429\n",
       "4       Female        604  28.701987  43050.943709\n",
       "        Male          612  28.772876  48071.101307\n",
       "5       Female        693  29.057720  43604.213564\n",
       "        Male          708  29.269774  48804.081921\n",
       "6       Female        730  29.838356  44414.619178\n",
       "        Male          751  29.684421  49565.834887\n",
       "7       Female        747  30.283802  45334.453815\n",
       "        Male          801  30.491885  50353.918851\n",
       "8       Female        765  30.768627  46192.368627\n",
       "        Male          799  30.739675  51283.957447\n",
       "9       Female        779  31.369705  47077.189987\n",
       "        Male          799  31.118899  52175.344180\n",
       "10      Female        783  31.578544  47993.574713\n",
       "        Male          822  31.515815  53120.951338\n",
       "11      Female        810  32.230864  48869.516049\n",
       "        Male          817  31.872705  54198.216646\n",
       "12      Female        787  32.481576  49853.050826\n",
       "        Male          812  31.987685  55152.822660"
      ]
     },
     "execution_count": 914,
     "metadata": {},
     "output_type": "execute_result"
    }
   ],
   "source": [
    "result = data.groupby(['Quarter','Sex (Male=1)']).agg({'Quarter':np.size,'Age':np.average,'Salary':'mean'})\n",
    "result.rename(columns={'Age': 'avg_age', 'Salary': 'avg_salary', 'Quarter': 'Obs'}, inplace=True)\n",
    "result"
   ]
  },
  {
   "cell_type": "markdown",
   "metadata": {},
   "source": [
    "### Salary Distribution"
   ]
  },
  {
   "cell_type": "code",
   "execution_count": 888,
   "metadata": {},
   "outputs": [
    {
     "data": {
      "image/png": "[encoded data removed]",
      "text/plain": [
       "<Figure size 432x288 with 1 Axes>"
      ]
     },
     "metadata": {
      "needs_background": "light"
     },
     "output_type": "display_data"
    },
    {
     "data": {
      "text/plain": [
       "<Figure size 720x360 with 0 Axes>"
      ]
     },
     "metadata": {},
     "output_type": "display_data"
    }
   ],
   "source": [
    "sns.boxplot(y='Salary', x= 'Quarter', data=data).set_title('Salary Distribution')\n",
    "plt.figure(figsize=(10,5))\n",
    "plt.show();"
   ]
  },
  {
   "cell_type": "markdown",
   "metadata": {},
   "source": [
    "### Age Distribution"
   ]
  },
  {
   "cell_type": "code",
   "execution_count": 889,
   "metadata": {},
   "outputs": [
    {
     "data": {
      "image/png": "[encoded data removed]",
      "text/plain": [
       "<Figure size 432x288 with 1 Axes>"
      ]
     },
     "metadata": {
      "needs_background": "light"
     },
     "output_type": "display_data"
    },
    {
     "data": {
      "text/plain": [
       "<Figure size 720x360 with 0 Axes>"
      ]
     },
     "metadata": {},
     "output_type": "display_data"
    }
   ],
   "source": [
    "sns.boxplot(y='Age', x= 'Quarter', data=data).set_title('Age Distribution')\n",
    "plt.figure(figsize=(10,5))\n",
    "plt.show();"
   ]
  },
  {
   "cell_type": "markdown",
   "metadata": {},
   "source": [
    "### Race change over time"
   ]
  },
  {
   "cell_type": "code",
   "execution_count": 919,
   "metadata": {},
   "outputs": [
    {
     "data": {
      "text/plain": [
       "<matplotlib.axes._subplots.AxesSubplot at 0x1c3086c470>"
      ]
     },
     "execution_count": 919,
     "metadata": {},
     "output_type": "execute_result"
    },
    {
     "data": {
      "image/png": "[encoded data removed]",
      "text/plain": [
       "<Figure size 432x288 with 1 Axes>"
      ]
     },
     "metadata": {
      "needs_background": "light"
     },
     "output_type": "display_data"
    }
   ],
   "source": [
    "df = data\n",
    "x, y, hue = \"Quarter\", \"Proportion\", \"Race\"\n",
    "hue_order = [\"1.0\", \"2.0\",\"3.0\"]\n",
    "\n",
    "(df[x]\n",
    " .groupby(df[hue])\n",
    " .value_counts()\n",
    " .rename(y)\n",
    " .reset_index()\n",
    " .pipe((sns.barplot, \"data\"), x=x, y=y, hue=hue))"
   ]
  },
  {
   "cell_type": "markdown",
   "metadata": {},
   "source": [
    "## Exploring Relationships"
   ]
  },
  {
   "cell_type": "markdown",
   "metadata": {},
   "source": [
    "### Health Score VS Quarter"
   ]
  },
  {
   "cell_type": "code",
   "execution_count": 893,
   "metadata": {},
   "outputs": [
    {
     "data": {
      "image/png": "[encoded data removed]",
      "text/plain": [
       "<Figure size 432x288 with 1 Axes>"
      ]
     },
     "metadata": {
      "needs_background": "light"
     },
     "output_type": "display_data"
    },
    {
     "data": {
      "text/plain": [
       "<Figure size 720x360 with 0 Axes>"
      ]
     },
     "metadata": {},
     "output_type": "display_data"
    }
   ],
   "source": [
    "sns.boxplot(y='Health Score', x= 'Quarter', data=data)\n",
    "plt.figure(figsize=(10,5))\n",
    "plt.show();"
   ]
  },
  {
   "cell_type": "markdown",
   "metadata": {},
   "source": [
    "### Health Score VS Sex"
   ]
  },
  {
   "cell_type": "code",
   "execution_count": 894,
   "metadata": {},
   "outputs": [
    {
     "data": {
      "image/png": "[encoded data removed]",
      "text/plain": [
       "<Figure size 806.4x864 with 12 Axes>"
      ]
     },
     "metadata": {
      "needs_background": "light"
     },
     "output_type": "display_data"
    }
   ],
   "source": [
    "g = sns.catplot(y='Health Score', x= 'Sex (Male=1)', data=data,col = 'Quarter', kind='box',col_wrap=4, height =4, aspect=0.7,legend=True)\n",
    "g.fig.suptitle('Health Score VS Sex')\n",
    "g.fig.subplots_adjust(top=.9)\n"
   ]
  },
  {
   "cell_type": "markdown",
   "metadata": {},
   "source": [
    "### Health Score VS Hospital Visit"
   ]
  },
  {
   "cell_type": "code",
   "execution_count": 895,
   "metadata": {},
   "outputs": [
    {
     "data": {
      "image/png": "[encoded data removed]",
      "text/plain": [
       "<Figure size 806.4x864 with 12 Axes>"
      ]
     },
     "metadata": {
      "needs_background": "light"
     },
     "output_type": "display_data"
    }
   ],
   "source": [
    "g = sns.catplot(y='Health Score', x= 'Hospital Visit This Quarter (1=Yes)', data=data,col = 'Quarter', kind='box',col_wrap=4, height =4, aspect=0.7,legend=True)\n",
    "g.fig.suptitle('Health Score VS Hospital Visit')\n",
    "g.fig.subplots_adjust(top=.9)"
   ]
  },
  {
   "cell_type": "markdown",
   "metadata": {},
   "source": [
    "### Health Score VS Race"
   ]
  },
  {
   "cell_type": "code",
   "execution_count": 897,
   "metadata": {},
   "outputs": [
    {
     "data": {
      "image/png": "[encoded data removed]",
      "text/plain": [
       "<Figure size 806.4x864 with 12 Axes>"
      ]
     },
     "metadata": {
      "needs_background": "light"
     },
     "output_type": "display_data"
    }
   ],
   "source": [
    "g = sns.catplot(y='Health Score', x= 'Race', data=data,col = 'Quarter', kind='box',col_wrap=4, height =4, aspect=0.7,legend=True)\n",
    "g.fig.suptitle('Health Score VS Race')\n",
    "g.fig.subplots_adjust(top=.9)"
   ]
  },
  {
   "cell_type": "markdown",
   "metadata": {},
   "source": [
    "### Health Score VS Salary"
   ]
  },
  {
   "cell_type": "code",
   "execution_count": 899,
   "metadata": {},
   "outputs": [
    {
     "data": {
      "text/plain": [
       "<matplotlib.axes._subplots.AxesSubplot at 0x1c30a22278>"
      ]
     },
     "execution_count": 899,
     "metadata": {},
     "output_type": "execute_result"
    },
    {
     "data": {
      "image/png": "[encoded data removed]",
      "text/plain": [
       "<Figure size 432x288 with 1 Axes>"
      ]
     },
     "metadata": {
      "needs_background": "light"
     },
     "output_type": "display_data"
    }
   ],
   "source": [
    "sns.regplot(x='Salary', y='Health Score',data=data,line_kws={\"color\":\"r\",\"alpha\":0.7,\"lw\":5})"
   ]
  },
  {
   "cell_type": "markdown",
   "metadata": {},
   "source": [
    "### Health Score VS Age"
   ]
  },
  {
   "cell_type": "markdown",
   "metadata": {},
   "source": [
    "#### It is well known that people's health deteriorates as they get older, so here is simple linear model  health score ~ age"
   ]
  },
  {
   "cell_type": "code",
   "execution_count": 900,
   "metadata": {},
   "outputs": [],
   "source": [
    "import statsmodels.api as sm"
   ]
  },
  {
   "cell_type": "code",
   "execution_count": 901,
   "metadata": {},
   "outputs": [
    {
     "data": {
      "text/plain": [
       "Text(0.5, 1.0, 'Health Score ~ Age')"
      ]
     },
     "execution_count": 901,
     "metadata": {},
     "output_type": "execute_result"
    },
    {
     "data": {
      "image/png": "[encoded data removed]",
      "text/plain": [
       "<Figure size 432x288 with 1 Axes>"
      ]
     },
     "metadata": {
      "needs_background": "light"
     },
     "output_type": "display_data"
    }
   ],
   "source": [
    "sns.regplot(x='Age', y='Health Score',data=data,line_kws={\"color\":\"r\",\"alpha\":0.7,\"lw\":5}).set_title('Health Score ~ Age')"
   ]
  },
  {
   "cell_type": "code",
   "execution_count": 902,
   "metadata": {},
   "outputs": [
    {
     "data": {
      "text/html": [
       "<table class=\"simpletable\">\n",
       "<caption>OLS Regression Results</caption>\n",
       "<tr>\n",
       "  <th>Dep. Variable:</th>      <td>Health Score</td>   <th>  R-squared:         </th> <td>   0.889</td> \n",
       "</tr>\n",
       "<tr>\n",
       "  <th>Model:</th>                   <td>OLS</td>       <th>  Adj. R-squared:    </th> <td>   0.889</td> \n",
       "</tr>\n",
       "<tr>\n",
       "  <th>Method:</th>             <td>Least Squares</td>  <th>  F-statistic:       </th> <td>1.269e+05</td>\n",
       "</tr>\n",
       "<tr>\n",
       "  <th>Date:</th>             <td>Thu, 11 Apr 2019</td> <th>  Prob (F-statistic):</th>  <td>  0.00</td>  \n",
       "</tr>\n",
       "<tr>\n",
       "  <th>Time:</th>                 <td>13:36:48</td>     <th>  Log-Likelihood:    </th> <td> -24167.</td> \n",
       "</tr>\n",
       "<tr>\n",
       "  <th>No. Observations:</th>      <td> 15867</td>      <th>  AIC:               </th> <td>4.834e+04</td>\n",
       "</tr>\n",
       "<tr>\n",
       "  <th>Df Residuals:</th>          <td> 15866</td>      <th>  BIC:               </th> <td>4.834e+04</td>\n",
       "</tr>\n",
       "<tr>\n",
       "  <th>Df Model:</th>              <td>     1</td>      <th>                     </th>     <td> </td>    \n",
       "</tr>\n",
       "<tr>\n",
       "  <th>Covariance Type:</th>      <td>nonrobust</td>    <th>                     </th>     <td> </td>    \n",
       "</tr>\n",
       "</table>\n",
       "<table class=\"simpletable\">\n",
       "<tr>\n",
       "   <td></td>      <th>coef</th>     <th>std err</th>      <th>t</th>      <th>P>|t|</th>  <th>[0.025</th>    <th>0.975]</th>  \n",
       "</tr>\n",
       "<tr>\n",
       "  <th>Age</th> <td>    0.1010</td> <td>    0.000</td> <td>  356.203</td> <td> 0.000</td> <td>    0.100</td> <td>    0.102</td>\n",
       "</tr>\n",
       "</table>\n",
       "<table class=\"simpletable\">\n",
       "<tr>\n",
       "  <th>Omnibus:</th>       <td>419.848</td> <th>  Durbin-Watson:     </th> <td>   1.765</td>\n",
       "</tr>\n",
       "<tr>\n",
       "  <th>Prob(Omnibus):</th> <td> 0.000</td>  <th>  Jarque-Bera (JB):  </th> <td> 445.256</td>\n",
       "</tr>\n",
       "<tr>\n",
       "  <th>Skew:</th>          <td> 0.400</td>  <th>  Prob(JB):          </th> <td>2.06e-97</td>\n",
       "</tr>\n",
       "<tr>\n",
       "  <th>Kurtosis:</th>      <td> 2.819</td>  <th>  Cond. No.          </th> <td>    1.00</td>\n",
       "</tr>\n",
       "</table><br/><br/>Warnings:<br/>[1] Standard Errors assume that the covariance matrix of the errors is correctly specified."
      ],
      "text/plain": [
       "<class 'statsmodels.iolib.summary.Summary'>\n",
       "\"\"\"\n",
       "                            OLS Regression Results                            \n",
       "==============================================================================\n",
       "Dep. Variable:           Health Score   R-squared:                       0.889\n",
       "Model:                            OLS   Adj. R-squared:                  0.889\n",
       "Method:                 Least Squares   F-statistic:                 1.269e+05\n",
       "Date:                Thu, 11 Apr 2019   Prob (F-statistic):               0.00\n",
       "Time:                        13:36:48   Log-Likelihood:                -24167.\n",
       "No. Observations:               15867   AIC:                         4.834e+04\n",
       "Df Residuals:                   15866   BIC:                         4.834e+04\n",
       "Df Model:                           1                                         \n",
       "Covariance Type:            nonrobust                                         \n",
       "==============================================================================\n",
       "                 coef    std err          t      P>|t|      [0.025      0.975]\n",
       "------------------------------------------------------------------------------\n",
       "Age            0.1010      0.000    356.203      0.000       0.100       0.102\n",
       "==============================================================================\n",
       "Omnibus:                      419.848   Durbin-Watson:                   1.765\n",
       "Prob(Omnibus):                  0.000   Jarque-Bera (JB):              445.256\n",
       "Skew:                           0.400   Prob(JB):                     2.06e-97\n",
       "Kurtosis:                       2.819   Cond. No.                         1.00\n",
       "==============================================================================\n",
       "\n",
       "Warnings:\n",
       "[1] Standard Errors assume that the covariance matrix of the errors is correctly specified.\n",
       "\"\"\""
      ]
     },
     "execution_count": 902,
     "metadata": {},
     "output_type": "execute_result"
    }
   ],
   "source": [
    "y = data['Health Score']\n",
    "X = data['Age']\n",
    "\n",
    "# Note the difference in argument order\n",
    "model = sm.OLS(y, X).fit()\n",
    "predictions = model.predict(X) # make the predictions by the model\n",
    "\n",
    "# Print out the statistics\n",
    "model.summary()"
   ]
  },
  {
   "cell_type": "markdown",
   "metadata": {},
   "source": [
    "## Evaluating the Claim"
   ]
  },
  {
   "cell_type": "markdown",
   "metadata": {},
   "source": [
    "#### Select employees who have been working here for 12 quarters"
   ]
  },
  {
   "cell_type": "code",
   "execution_count": 903,
   "metadata": {},
   "outputs": [
    {
     "data": {
      "text/html": [
       "<div>\n",
       "<style scoped>\n",
       "    .dataframe tbody tr th:only-of-type {\n",
       "        vertical-align: middle;\n",
       "    }\n",
       "\n",
       "    .dataframe tbody tr th {\n",
       "        vertical-align: top;\n",
       "    }\n",
       "\n",
       "    .dataframe thead th {\n",
       "        text-align: right;\n",
       "    }\n",
       "</style>\n",
       "<table border=\"1\" class=\"dataframe\">\n",
       "  <thead>\n",
       "    <tr style=\"text-align: right;\">\n",
       "      <th></th>\n",
       "      <th>Observation Number</th>\n",
       "      <th>Quarter</th>\n",
       "      <th>Employee Id</th>\n",
       "      <th>Sex (Male=1)</th>\n",
       "      <th>Race</th>\n",
       "      <th>Age</th>\n",
       "      <th>Hospital Visit This Quarter (1=Yes)</th>\n",
       "      <th>Salary</th>\n",
       "      <th>Health Score</th>\n",
       "      <th>Female</th>\n",
       "      <th>Male</th>\n",
       "      <th>hosp_no</th>\n",
       "      <th>hosp_yes</th>\n",
       "    </tr>\n",
       "  </thead>\n",
       "  <tbody>\n",
       "    <tr>\n",
       "      <th>0</th>\n",
       "      <td>1</td>\n",
       "      <td>1</td>\n",
       "      <td>1</td>\n",
       "      <td>Female</td>\n",
       "      <td>3.0</td>\n",
       "      <td>27</td>\n",
       "      <td>hosp_no</td>\n",
       "      <td>36907</td>\n",
       "      <td>3.7</td>\n",
       "      <td>1</td>\n",
       "      <td>0</td>\n",
       "      <td>1</td>\n",
       "      <td>0</td>\n",
       "    </tr>\n",
       "    <tr>\n",
       "      <th>1</th>\n",
       "      <td>2</td>\n",
       "      <td>2</td>\n",
       "      <td>1</td>\n",
       "      <td>Female</td>\n",
       "      <td>3.0</td>\n",
       "      <td>28</td>\n",
       "      <td>hosp_no</td>\n",
       "      <td>37907</td>\n",
       "      <td>5.0</td>\n",
       "      <td>1</td>\n",
       "      <td>0</td>\n",
       "      <td>1</td>\n",
       "      <td>0</td>\n",
       "    </tr>\n",
       "    <tr>\n",
       "      <th>2</th>\n",
       "      <td>3</td>\n",
       "      <td>3</td>\n",
       "      <td>1</td>\n",
       "      <td>Female</td>\n",
       "      <td>3.0</td>\n",
       "      <td>28</td>\n",
       "      <td>hosp_no</td>\n",
       "      <td>38907</td>\n",
       "      <td>4.0</td>\n",
       "      <td>1</td>\n",
       "      <td>0</td>\n",
       "      <td>1</td>\n",
       "      <td>0</td>\n",
       "    </tr>\n",
       "    <tr>\n",
       "      <th>3</th>\n",
       "      <td>4</td>\n",
       "      <td>4</td>\n",
       "      <td>1</td>\n",
       "      <td>Female</td>\n",
       "      <td>3.0</td>\n",
       "      <td>28</td>\n",
       "      <td>hosp_no</td>\n",
       "      <td>39907</td>\n",
       "      <td>2.3</td>\n",
       "      <td>1</td>\n",
       "      <td>0</td>\n",
       "      <td>1</td>\n",
       "      <td>0</td>\n",
       "    </tr>\n",
       "    <tr>\n",
       "      <th>4</th>\n",
       "      <td>5</td>\n",
       "      <td>5</td>\n",
       "      <td>1</td>\n",
       "      <td>Female</td>\n",
       "      <td>3.0</td>\n",
       "      <td>29</td>\n",
       "      <td>hosp_no</td>\n",
       "      <td>40907</td>\n",
       "      <td>2.1</td>\n",
       "      <td>1</td>\n",
       "      <td>0</td>\n",
       "      <td>1</td>\n",
       "      <td>0</td>\n",
       "    </tr>\n",
       "  </tbody>\n",
       "</table>\n",
       "</div>"
      ],
      "text/plain": [
       "   Observation Number  Quarter  Employee Id Sex (Male=1)  Race  Age  \\\n",
       "0                   1        1            1       Female   3.0   27   \n",
       "1                   2        2            1       Female   3.0   28   \n",
       "2                   3        3            1       Female   3.0   28   \n",
       "3                   4        4            1       Female   3.0   28   \n",
       "4                   5        5            1       Female   3.0   29   \n",
       "\n",
       "  Hospital Visit This Quarter (1=Yes)  Salary  Health Score  Female  Male  \\\n",
       "0                             hosp_no   36907           3.7       1     0   \n",
       "1                             hosp_no   37907           5.0       1     0   \n",
       "2                             hosp_no   38907           4.0       1     0   \n",
       "3                             hosp_no   39907           2.3       1     0   \n",
       "4                             hosp_no   40907           2.1       1     0   \n",
       "\n",
       "   hosp_no  hosp_yes  \n",
       "0        1         0  \n",
       "1        1         0  \n",
       "2        1         0  \n",
       "3        1         0  \n",
       "4        1         0  "
      ]
     },
     "execution_count": 903,
     "metadata": {},
     "output_type": "execute_result"
    }
   ],
   "source": [
    "#Find out the employee Id which has 12 quarter data records\n",
    "data_list = data.loc[data['Quarter'] == 1]\n",
    "data_emlist = data_list['Employee Id'].to_list()\n",
    "\n",
    "data_12q = data.loc[data['Employee Id'].isin(data_emlist)]\n",
    "data_12q.head()"
   ]
  },
  {
   "cell_type": "markdown",
   "metadata": {},
   "source": [
    "#### Calculate the percentage of people visiting hospital"
   ]
  },
  {
   "cell_type": "code",
   "execution_count": 904,
   "metadata": {},
   "outputs": [
    {
     "data": {
      "text/plain": [
       "(24, 11)"
      ]
     },
     "execution_count": 904,
     "metadata": {},
     "output_type": "execute_result"
    }
   ],
   "source": [
    "data_hosp = data_12q.groupby(['Quarter', 'Hospital Visit This Quarter (1=Yes)']).count()\n",
    "data_hosp.head()\n",
    "data_hosp.shape\n",
    "#data_hosp"
   ]
  },
  {
   "cell_type": "code",
   "execution_count": 905,
   "metadata": {},
   "outputs": [],
   "source": [
    "data_hosp = data_hosp.pivot_table(index='Quarter',columns= 'Hospital Visit This Quarter (1=Yes)')\n"
   ]
  },
  {
   "cell_type": "code",
   "execution_count": 906,
   "metadata": {},
   "outputs": [
    {
     "data": {
      "text/html": [
       "<div>\n",
       "<style scoped>\n",
       "    .dataframe tbody tr th:only-of-type {\n",
       "        vertical-align: middle;\n",
       "    }\n",
       "\n",
       "    .dataframe tbody tr th {\n",
       "        vertical-align: top;\n",
       "    }\n",
       "\n",
       "    .dataframe thead th {\n",
       "        text-align: right;\n",
       "    }\n",
       "</style>\n",
       "<table border=\"1\" class=\"dataframe\">\n",
       "  <thead>\n",
       "    <tr style=\"text-align: right;\">\n",
       "      <th>Hospital Visit This Quarter (1=Yes)</th>\n",
       "      <th>hosp_no</th>\n",
       "      <th>hosp_yes</th>\n",
       "    </tr>\n",
       "    <tr>\n",
       "      <th>Quarter</th>\n",
       "      <th></th>\n",
       "      <th></th>\n",
       "    </tr>\n",
       "  </thead>\n",
       "  <tbody>\n",
       "    <tr>\n",
       "      <th>1</th>\n",
       "      <td>520</td>\n",
       "      <td>41</td>\n",
       "    </tr>\n",
       "    <tr>\n",
       "      <th>2</th>\n",
       "      <td>478</td>\n",
       "      <td>47</td>\n",
       "    </tr>\n",
       "    <tr>\n",
       "      <th>3</th>\n",
       "      <td>469</td>\n",
       "      <td>59</td>\n",
       "    </tr>\n",
       "    <tr>\n",
       "      <th>4</th>\n",
       "      <td>471</td>\n",
       "      <td>55</td>\n",
       "    </tr>\n",
       "    <tr>\n",
       "      <th>5</th>\n",
       "      <td>482</td>\n",
       "      <td>48</td>\n",
       "    </tr>\n",
       "  </tbody>\n",
       "</table>\n",
       "</div>"
      ],
      "text/plain": [
       "Hospital Visit This Quarter (1=Yes)  hosp_no  hosp_yes\n",
       "Quarter                                               \n",
       "1                                        520        41\n",
       "2                                        478        47\n",
       "3                                        469        59\n",
       "4                                        471        55\n",
       "5                                        482        48"
      ]
     },
     "execution_count": 906,
     "metadata": {},
     "output_type": "execute_result"
    }
   ],
   "source": [
    "data_hosp = data_hosp['Employee Id']\n",
    "data_hosp.head()"
   ]
  },
  {
   "cell_type": "code",
   "execution_count": 907,
   "metadata": {},
   "outputs": [
    {
     "data": {
      "text/html": [
       "<div>\n",
       "<style scoped>\n",
       "    .dataframe tbody tr th:only-of-type {\n",
       "        vertical-align: middle;\n",
       "    }\n",
       "\n",
       "    .dataframe tbody tr th {\n",
       "        vertical-align: top;\n",
       "    }\n",
       "\n",
       "    .dataframe thead th {\n",
       "        text-align: right;\n",
       "    }\n",
       "</style>\n",
       "<table border=\"1\" class=\"dataframe\">\n",
       "  <thead>\n",
       "    <tr style=\"text-align: right;\">\n",
       "      <th>Hospital Visit This Quarter (1=Yes)</th>\n",
       "      <th>Quarter</th>\n",
       "      <th>hosp_no</th>\n",
       "      <th>hosp_yes</th>\n",
       "      <th>hosp_pct</th>\n",
       "    </tr>\n",
       "  </thead>\n",
       "  <tbody>\n",
       "    <tr>\n",
       "      <th>0</th>\n",
       "      <td>1</td>\n",
       "      <td>520</td>\n",
       "      <td>41</td>\n",
       "      <td>0.073084</td>\n",
       "    </tr>\n",
       "    <tr>\n",
       "      <th>1</th>\n",
       "      <td>2</td>\n",
       "      <td>478</td>\n",
       "      <td>47</td>\n",
       "      <td>0.089524</td>\n",
       "    </tr>\n",
       "    <tr>\n",
       "      <th>2</th>\n",
       "      <td>3</td>\n",
       "      <td>469</td>\n",
       "      <td>59</td>\n",
       "      <td>0.111742</td>\n",
       "    </tr>\n",
       "    <tr>\n",
       "      <th>3</th>\n",
       "      <td>4</td>\n",
       "      <td>471</td>\n",
       "      <td>55</td>\n",
       "      <td>0.104563</td>\n",
       "    </tr>\n",
       "    <tr>\n",
       "      <th>4</th>\n",
       "      <td>5</td>\n",
       "      <td>482</td>\n",
       "      <td>48</td>\n",
       "      <td>0.090566</td>\n",
       "    </tr>\n",
       "    <tr>\n",
       "      <th>5</th>\n",
       "      <td>6</td>\n",
       "      <td>478</td>\n",
       "      <td>45</td>\n",
       "      <td>0.086042</td>\n",
       "    </tr>\n",
       "    <tr>\n",
       "      <th>6</th>\n",
       "      <td>7</td>\n",
       "      <td>475</td>\n",
       "      <td>52</td>\n",
       "      <td>0.098672</td>\n",
       "    </tr>\n",
       "    <tr>\n",
       "      <th>7</th>\n",
       "      <td>8</td>\n",
       "      <td>468</td>\n",
       "      <td>60</td>\n",
       "      <td>0.113636</td>\n",
       "    </tr>\n",
       "    <tr>\n",
       "      <th>8</th>\n",
       "      <td>9</td>\n",
       "      <td>457</td>\n",
       "      <td>67</td>\n",
       "      <td>0.127863</td>\n",
       "    </tr>\n",
       "    <tr>\n",
       "      <th>9</th>\n",
       "      <td>10</td>\n",
       "      <td>490</td>\n",
       "      <td>38</td>\n",
       "      <td>0.071970</td>\n",
       "    </tr>\n",
       "    <tr>\n",
       "      <th>10</th>\n",
       "      <td>11</td>\n",
       "      <td>480</td>\n",
       "      <td>50</td>\n",
       "      <td>0.094340</td>\n",
       "    </tr>\n",
       "    <tr>\n",
       "      <th>11</th>\n",
       "      <td>12</td>\n",
       "      <td>427</td>\n",
       "      <td>92</td>\n",
       "      <td>0.177264</td>\n",
       "    </tr>\n",
       "  </tbody>\n",
       "</table>\n",
       "</div>"
      ],
      "text/plain": [
       "Hospital Visit This Quarter (1=Yes)  Quarter  hosp_no  hosp_yes  hosp_pct\n",
       "0                                          1      520        41  0.073084\n",
       "1                                          2      478        47  0.089524\n",
       "2                                          3      469        59  0.111742\n",
       "3                                          4      471        55  0.104563\n",
       "4                                          5      482        48  0.090566\n",
       "5                                          6      478        45  0.086042\n",
       "6                                          7      475        52  0.098672\n",
       "7                                          8      468        60  0.113636\n",
       "8                                          9      457        67  0.127863\n",
       "9                                         10      490        38  0.071970\n",
       "10                                        11      480        50  0.094340\n",
       "11                                        12      427        92  0.177264"
      ]
     },
     "execution_count": 907,
     "metadata": {},
     "output_type": "execute_result"
    }
   ],
   "source": [
    "data_hosp['hosp_pct'] =data_hosp['hosp_yes']/(data_hosp['hosp_no'] + data_hosp['hosp_yes'])\n",
    "data_hosp = data_hosp.reset_index()\n",
    "data_hosp"
   ]
  },
  {
   "cell_type": "code",
   "execution_count": 909,
   "metadata": {},
   "outputs": [
    {
     "data": {
      "text/plain": [
       "<matplotlib.axes._subplots.AxesSubplot at 0x1c3224ab70>"
      ]
     },
     "execution_count": 909,
     "metadata": {},
     "output_type": "execute_result"
    },
    {
     "data": {
      "image/png": "[encoded data removed]",
      "text/plain": [
       "<Figure size 432x288 with 1 Axes>"
      ]
     },
     "metadata": {
      "needs_background": "light"
     },
     "output_type": "display_data"
    }
   ],
   "source": [
    "data_hosp.plot(x='Quarter',y='hosp_pct',title='Percentage of People visiting Hospital')"
   ]
  },
  {
   "cell_type": "code",
   "execution_count": 910,
   "metadata": {},
   "outputs": [
    {
     "data": {
      "image/png": "[encoded data removed]",
      "text/plain": [
       "<Figure size 432x288 with 1 Axes>"
      ]
     },
     "metadata": {
      "needs_background": "light"
     },
     "output_type": "display_data"
    },
    {
     "data": {
      "text/plain": [
       "<Figure size 720x360 with 0 Axes>"
      ]
     },
     "metadata": {},
     "output_type": "display_data"
    }
   ],
   "source": [
    "sns.boxplot(y='Health Score', x= 'Quarter', data=data_12q).set_title('Health Score Distribution')\n",
    "plt.figure(figsize=(10,5))\n",
    "plt.show();"
   ]
  }
 ],
 "metadata": {
  "kernelspec": {
   "display_name": "Python 3",
   "language": "python",
   "name": "python3"
  },
  "language_info": {
   "codemirror_mode": {
    "name": "ipython",
    "version": 3
   },
   "file_extension": ".py",
   "mimetype": "text/x-python",
   "name": "python",
   "nbconvert_exporter": "python",
   "pygments_lexer": "ipython3",
   "version": "3.6.8"
  }
 },
 "nbformat": 4,
 "nbformat_minor": 2
}
